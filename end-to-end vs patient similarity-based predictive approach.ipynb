{
 "cells": [
  {
   "cell_type": "markdown",
   "id": "22a3d2d8",
   "metadata": {},
   "source": [
    "A comparison of the end-to-end and patient similarity-based predictive approaches.      \n",
    "For simplicity, we use ridge regression for modelling and K-Means for clustering."
   ]
  },
  {
   "cell_type": "code",
   "execution_count": 1,
   "id": "7a358c5b",
   "metadata": {},
   "outputs": [
    {
     "name": "stdout",
     "output_type": "stream",
     "text": [
      "X_shape = (1000, 20), y_shape = (1000,)\n",
      "N_predictor = 20\n"
     ]
    }
   ],
   "source": [
    "import numpy as np\n",
    "import sklearn as sk\n",
    "from sklearn.datasets import make_regression\n",
    "from sklearn.model_selection import train_test_split\n",
    "\n",
    "# generate a toy 2d regression dataset\n",
    "X, y = make_regression(n_samples=1000, n_features=20, n_informative=15, random_state=1)\n",
    "# split to train:test = 800:200\n",
    "X_train, X_test, y_train, y_test = train_test_split(X, y, test_size=0.2, random_state=1)\n",
    "print('X_shape = {}, y_shape = {}'.format(np.shape(X), np.shape(y)))\n",
    "print('N_predictor = {}'.format(np.shape(X)[1]))"
   ]
  },
  {
   "cell_type": "code",
   "execution_count": 2,
   "id": "0ba21820",
   "metadata": {},
   "outputs": [],
   "source": [
    "from sklearn.cluster import KMeans\n",
    "from sklearn.linear_model import Ridge\n",
    "\n",
    "# end-to-end\n",
    "model_end = Ridge()\n",
    "model_end.fit(X_train, y_train)\n",
    "pred_end = model_end.predict(X_test)\n",
    "\n",
    "# patient similarity-based\n",
    "N_CLUSTER = 4\n",
    "kmeans = KMeans(n_clusters=N_CLUSTER, random_state=1).fit(X_train)\n",
    "# (unique, counts) = np.unique(kmeans.labels_, return_counts=True)\n",
    "# counts\n",
    "cluster_label_train = kmeans.labels_\n",
    "cluster_label_test = kmeans.predict(X_test)\n",
    "\n",
    "pred_sim = np.zeros(X_test.shape[0])\n",
    "for i in range(N_CLUSTER):\n",
    "    idx_train, idx_test = np.where(cluster_label_train==i)[0], np.where(cluster_label_test==i)[0]\n",
    "    temp_X_train, temp_y_train = X_train[idx_train, :], y_train[idx_train]\n",
    "    temp_X_test, temp_y_test = X_test[idx_test, :], y_test[idx_test]\n",
    "    \n",
    "    model = Ridge()\n",
    "    model.fit(temp_X_train, temp_y_train)\n",
    "    temp_pred = model.predict(temp_X_test)\n",
    "    pred_sim[idx_test] = temp_pred"
   ]
  },
  {
   "cell_type": "code",
   "execution_count": 3,
   "id": "6e34a2a6",
   "metadata": {},
   "outputs": [
    {
     "name": "stdout",
     "output_type": "stream",
     "text": [
      "MAE_end = 0.2380 \n",
      "MAE_sim = 1.0738\n"
     ]
    }
   ],
   "source": [
    "# MAE evaluation\n",
    "from sklearn.metrics import mean_absolute_error\n",
    "print('MAE_end = {:0.4f} \\nMAE_sim = {:0.4f}'.format(\n",
    "            mean_absolute_error(y_test, pred_end),\n",
    "            mean_absolute_error(y_test, pred_sim)))"
   ]
  }
 ],
 "metadata": {
  "kernelspec": {
   "display_name": "Python 3",
   "language": "python",
   "name": "python3"
  },
  "language_info": {
   "codemirror_mode": {
    "name": "ipython",
    "version": 3
   },
   "file_extension": ".py",
   "mimetype": "text/x-python",
   "name": "python",
   "nbconvert_exporter": "python",
   "pygments_lexer": "ipython3",
   "version": "3.8.10"
  }
 },
 "nbformat": 4,
 "nbformat_minor": 5
}
