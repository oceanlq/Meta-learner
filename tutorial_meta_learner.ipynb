{
 "cells": [
  {
   "cell_type": "markdown",
   "id": "22a3d2d8",
   "metadata": {},
   "source": [
    "Meta-learner - a prediction model combining statstical and machine learning models      \n",
    "For simplicity, we use ridge regression as the statistical model. The machine learning model and meta-learner are based on the SVM architecture."
   ]
  },
  {
   "cell_type": "code",
   "execution_count": 1,
   "id": "7a358c5b",
   "metadata": {},
   "outputs": [
    {
     "name": "stdout",
     "output_type": "stream",
     "text": [
      "X_shape = (1000, 20), y_shape = (1000,)\n",
      "N_predictor = 20, N_class = 2\n"
     ]
    }
   ],
   "source": [
    "import numpy as np\n",
    "import sklearn as sk\n",
    "from sklearn.datasets import make_classification\n",
    "from sklearn.model_selection import train_test_split\n",
    "\n",
    "# generate a toy 2d classification dataset\n",
    "X, y = make_classification(n_samples=1000, n_features=20, n_informative=15, n_redundant=5, random_state=1)\n",
    "# split to base:meta:test = 400:400:200\n",
    "X_base, X_temp, y_base, y_temp = train_test_split(X, y, test_size=0.6, random_state=1)\n",
    "X_meta, X_test, y_meta, y_test = train_test_split(X_temp, y_temp, test_size=0.333, random_state=1)\n",
    "print('X_shape = {}, y_shape = {}'.format(np.shape(X), np.shape(y)))\n",
    "print('N_predictor = {}, N_class = {}'.format(np.shape(X)[1], len(np.unique(y))))"
   ]
  },
  {
   "cell_type": "code",
   "execution_count": 2,
   "id": "0ba21820",
   "metadata": {},
   "outputs": [],
   "source": [
    "from sklearn.linear_model import LogisticRegression\n",
    "from sklearn.svm import SVC\n",
    "\n",
    "# statistical model: logistic regression with L2 regularization\n",
    "stat = LogisticRegression().fit(X_base, y_base)\n",
    "# get probability\n",
    "pred_meta_stat, pred_test_stat = stat.predict_proba(X_meta)[:, 1], stat.predict_proba(X_test)[:, 1]\n",
    "\n",
    "# machine learning model: SVM\n",
    "ml = SVC(probability=True).fit(X_base, y_base)\n",
    "pred_meta_ml, pred_test_ml = ml.predict_proba(X_meta)[:, 1], ml.predict_proba(X_test)[:, 1]\n",
    "\n",
    "# meta-learner: SVM\n",
    "meta = SVC(probability=True).fit(np.c_[X_meta, pred_meta_stat, pred_meta_ml], y_meta)"
   ]
  },
  {
   "cell_type": "code",
   "execution_count": 3,
   "id": "6e34a2a6",
   "metadata": {},
   "outputs": [
    {
     "name": "stdout",
     "output_type": "stream",
     "text": [
      "AUC_stat = 0.9475 \n",
      "AUC_ml = 0.9772 \n",
      "AUC_meta = 0.9800\n"
     ]
    }
   ],
   "source": [
    "# AUC evaluation\n",
    "from sklearn import metrics\n",
    "def my_auc(y, pred):\n",
    "    fp, tp, _ = metrics.roc_curve(y, pred)\n",
    "    return metrics.auc(fp, tp)\n",
    "\n",
    "print('AUC_stat = {:0.4f} \\nAUC_ml = {:0.4f} \\nAUC_meta = {:0.4f}'.format(\n",
    "            my_auc(y_test, stat.predict_proba(X_test)[:, 1]),\n",
    "            my_auc(y_test, ml.predict_proba(X_test)[:, 1]), \n",
    "            my_auc(y_test, meta.predict_proba(np.c_[X_test, pred_test_stat, pred_test_ml])[:, 1])))"
   ]
  }
 ],
 "metadata": {
  "kernelspec": {
   "display_name": "Python 3",
   "language": "python",
   "name": "python3"
  },
  "language_info": {
   "codemirror_mode": {
    "name": "ipython",
    "version": 3
   },
   "file_extension": ".py",
   "mimetype": "text/x-python",
   "name": "python",
   "nbconvert_exporter": "python",
   "pygments_lexer": "ipython3",
   "version": "3.8.10"
  }
 },
 "nbformat": 4,
 "nbformat_minor": 5
}
